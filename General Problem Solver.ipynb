{
 "cells": [
  {
   "cell_type": "markdown",
   "metadata": {},
   "source": [
    "# GPS: The General Problem Solver\n",
    "\n",
    "\n",
    "In 1957 werkten Alan Newell en Herbert Simon aan een van de eerste AI programma's: de General Problem Solver. Het programma volgt de zogenaamde 'symbolic AI' aanpak. Dit betekent dat intelligentie geprogrameerd wordt door een probleem te representeren met symbolen binnen een programma en te manipuleren via logica en zoek algoritmen.\n",
    "\n",
    "De verwachtingen van de symbolic AI aanpak waren in de begin jaren hoog. Zo hoog zelfs, dat men dacht dat intelligente computers binnen 10 jaar ontwikkeld zouden zijn. Dit was dus een verkeerde inschatting. Een van de problemen bij deze aanpak is dat het AI programma niet meer kennis heeft over het probleem dan dat er in de code geprogrammeerd is. \n",
    "\n",
    "Toch is de GPS een belangrijke mijlpaal geweest voor AI. Het was namelijk het eerste AI programma dat kennis over een probleem (de feiten database) en de strategie om het probleem op te lossen (de kennisregels) scheidde. \n",
    "\n",
    "Hieronder wordt beschreven hoe je de GPS kunt programmeren in Python. Hierbij wordt een vertaling gemaakt van LIPS naar Python uit het boek 'Paradigms of Artificial Intelligence Programming' van Peter Norvig.\n",
    "\n",
    "\n",
    "## Means-End analyse\n",
    "\n",
    "In hun boek \"Human Problem Solving\" uit 1972 beschrijven Newell en Simon het volgende scenario om te beschrijven hoe mensen problemen oplossen:\n",
    "\n",
    "> Ik wil mijn zoon naar school brengen. Wat is het verschil met waar ik nu ben en waar ik heen wil? Dat is de afstand tussen mijn huis en de school. Hoe kan ik dit verschil veranderen? Dat kan met mijn auto. Mijn auto werkt echter niet. Wat is er voor nodig om mijn auto weer werkend te krijgen? Ik heb een nieuwe accu nodig. Hoe kom ik aan een nieuwe accu? Een accu kan ik bij de garage halen. Hoe weet de garage dat ik een accu nodig heb? Dan moet ik ze bellen. ... enzovoort\n",
    "\n",
    "Deze aanpak waarbij je kijkt met welke aktie je het verschil tussen de huidige toestand en de gewenste toestand van een probleem kunt verkleinen, heet means-end analyse.\n",
    "\n",
    "\n",
    "## Python implementatie van GPS\n"
   ]
  },
  {
   "cell_type": "code",
   "execution_count": 18,
   "metadata": {},
   "outputs": [],
   "source": [
    "class Operators:\n",
    "    \"\"\"\n",
    "    Acties die uitgevoerd kunnen worden om een (deel)probleem\n",
    "    op te lossen.\n",
    "    \"\"\"\n",
    "    def __init__(self):\n",
    "        self.ops = []    # lijst met acties\n",
    "\n",
    "    def make_op(self, action, preconds=[], add_list=[], del_list=[], front_of_list=False):\n",
    "        \"\"\"Voeg actie toe.\"\"\"\n",
    "        op = {'action'  : action, \\\n",
    "              'preconds': preconds, \\\n",
    "              'add_list': add_list, \\\n",
    "              'del_list': del_list }\n",
    "\n",
    "        if front_of_list:\n",
    "            self.ops.insert(0, op)\n",
    "        else:\n",
    "            self.ops.append(op)\n",
    "        \n",
    "    def find_ops(self, goal):\n",
    "        \"\"\"Zoek alle acties om een goal te bereiken.\"\"\"\n",
    "        return [op for op in self.ops if goal in op['add_list']]\n",
    "    \n",
    "    def apply(self, state, op):\n",
    "        \"\"\"Voer een actie uit.\"\"\"\n",
    "        return [s for s in state if s not in op['del_list']] + op['add_list']\n",
    "        \n",
    "    \n",
    "ops = Operators()\n",
    "    \n",
    "ops.make_op(action   = 'drive-son-to-school', \\\n",
    "            preconds = ['son-at-home', 'car-works'], \\\n",
    "            add_list = ['son-at-school'], \\\n",
    "            del_list = ['son-at-home'])\n",
    "\n",
    "ops.make_op(action   = 'shop-installs-battery', \\\n",
    "            preconds = ['car-needs-battery', 'shop-knows-problem', 'shop-has-money'], \\\n",
    "            add_list = ['car-works'], \\\n",
    "            del_list = [])\n",
    "\n",
    "ops.make_op(action   = 'tell-shop-problem', \\\n",
    "            preconds = ['in-communication-with-shop'], \\\n",
    "            add_list = ['shop-knows-problem'])\n",
    "\n",
    "ops.make_op(action   = 'telephone-shop', \\\n",
    "            preconds = ['know-phone-number'], \\\n",
    "            add_list = ['in-communication-with-shop'])\n",
    "\n",
    "ops.make_op(action   = 'look-up-number', \\\n",
    "            preconds = ['have-phone-book'], \\\n",
    "            add_list = ['know-phone-number'])\n",
    "\n",
    "ops.make_op(action   = 'give-shop-money', \\\n",
    "            preconds = ['have-money'], \\\n",
    "            add_list = ['shop-has-money'], \\\n",
    "            del_list = ['have-money'])\n",
    "\n",
    "\n",
    "# The General Problem Solver\n",
    "class GPS:\n",
    "    def __init__(self, ops, state=[], goals=[]):\n",
    "        self.state = state\n",
    "        self.goals = goals\n",
    "        self.ops = ops\n",
    "        \n",
    "    def achieve(self, goal):\n",
    "        if goal in self.state:\n",
    "            # Als goal al is bereikt in huidige state dan return True\n",
    "            return True\n",
    "        else:\n",
    "            # Als goal nog niet is bereikt, zoek een actie waarmee goal\n",
    "            # bereikt kan worden\n",
    "            for op in self.ops.find_ops(goal):  \n",
    "                # test of alle pre-conditities gerealiseerd kunnen worden\n",
    "                if all(self.achieve(c) for c in op['preconds']):\n",
    "                    print(\"EXECUTING {}\".format(op['action']))\n",
    "                    self.state = ops.apply(self.state, op)\n",
    "                    return True\n",
    "        return False\n",
    "        \n",
    "    def solve(self):\n",
    "        # test of alle goals gerealiseerd kunnen worden\n",
    "        if all(self.achieve(goal) for goal in self.goals):\n",
    "            print(\"SOLVED\")\n",
    "        else:\n",
    "            print(\"NOT SOLVED\")\n",
    "            \n",
    "gps = GPS(ops)"
   ]
  },
  {
   "cell_type": "code",
   "execution_count": 19,
   "metadata": {},
   "outputs": [
    {
     "name": "stdout",
     "output_type": "stream",
     "text": [
      "SOLVED\n"
     ]
    }
   ],
   "source": [
    "gps.state = ['son-at-school']\n",
    "gps.goals = ['son-at-school']\n",
    "gps.solve()"
   ]
  },
  {
   "cell_type": "code",
   "execution_count": 20,
   "metadata": {},
   "outputs": [
    {
     "name": "stdout",
     "output_type": "stream",
     "text": [
      "EXECUTING look-up-number\n",
      "EXECUTING telephone-shop\n",
      "EXECUTING tell-shop-problem\n",
      "EXECUTING give-shop-money\n",
      "EXECUTING shop-installs-battery\n",
      "EXECUTING drive-son-to-school\n",
      "SOLVED\n"
     ]
    }
   ],
   "source": [
    "gps.state = ['son-at-home', 'car-needs-battery', 'have-money', 'have-phone-book']\n",
    "gps.goals = ['son-at-school']\n",
    "gps.solve()"
   ]
  },
  {
   "cell_type": "code",
   "execution_count": 21,
   "metadata": {},
   "outputs": [
    {
     "name": "stdout",
     "output_type": "stream",
     "text": [
      "NOT SOLVED\n"
     ]
    }
   ],
   "source": [
    "gps.state = ['son-at-home', 'car-needs-battery', 'have-money']\n",
    "gps.goals = ['son-at-school']\n",
    "gps.solve()"
   ]
  },
  {
   "cell_type": "code",
   "execution_count": 22,
   "metadata": {},
   "outputs": [
    {
     "name": "stdout",
     "output_type": "stream",
     "text": [
      "EXECUTING drive-son-to-school\n",
      "SOLVED\n"
     ]
    }
   ],
   "source": [
    "gps.state = ['son-at-home', 'car-works']\n",
    "gps.goals = ['son-at-school']\n",
    "gps.solve()"
   ]
  },
  {
   "cell_type": "markdown",
   "metadata": {},
   "source": [
    "## Beperkingen van GPS en hoe deze op te lossen\n",
    "\n",
    "De General Problem Solver die hierboven beschreven staat heeft een aantal beperkingen. \n",
    "\n",
    "De eerste beperking heeft te maken met akties die geen impact hebben op de toestand van het probleem. De `add_list` en `del_list` zijn hierbij leeg. Een dergelijke actie uitvoeren heeft geen impact op de toestand. GPS moet hier rekening meehouden.\n",
    "\n",
    "De tweede beperking heeft te maken met het bereiken van meerdere doelen op hetzelfde moment. Stel je wilt de doelen `have-money` en `son-at-school` bereiken. Als we dit probleem laten oplossen door GPS dan is het resultaat dat het probleem opgelost is."
   ]
  },
  {
   "cell_type": "code",
   "execution_count": 23,
   "metadata": {},
   "outputs": [
    {
     "name": "stdout",
     "output_type": "stream",
     "text": [
      "EXECUTING look-up-number\n",
      "EXECUTING telephone-shop\n",
      "EXECUTING tell-shop-problem\n",
      "EXECUTING give-shop-money\n",
      "EXECUTING shop-installs-battery\n",
      "EXECUTING drive-son-to-school\n",
      "SOLVED\n"
     ]
    }
   ],
   "source": [
    "gps.state = ['son-at-home', 'car-needs-battery', 'have-money', 'have-phone-book']\n",
    "gps.goals = ['have-money', 'son-at-school']\n",
    "gps.solve()"
   ]
  },
  {
   "cell_type": "markdown",
   "metadata": {},
   "source": [
    "In werkelijkheid klopt dit niet. Zodra de actie `give-shop-money` wordt uitgevoerd heb je geen geld meer. In de GPS functie zoals die hierboven staat wordt niet gecontroleerd of alle doelen op het zelfde moment bereikt zijn. In een aangepaste versie van GPS gebruiken we daarom een nieuwe functie `achieve_all` die hier rekening mee houdt.\n",
    "\n",
    "De derde beperking van GPS zien we als we de doelen omgewisselen. Hoewel GPS wel het juiste resultaat geeft, worden er al akties uitgevoerd. Dit is ongewenst en wordt veroorzaakt dat planning en executie door elkaar heen lopen."
   ]
  },
  {
   "cell_type": "code",
   "execution_count": 24,
   "metadata": {},
   "outputs": [
    {
     "name": "stdout",
     "output_type": "stream",
     "text": [
      "EXECUTING look-up-number\n",
      "EXECUTING telephone-shop\n",
      "EXECUTING tell-shop-problem\n",
      "EXECUTING give-shop-money\n",
      "EXECUTING shop-installs-battery\n",
      "EXECUTING drive-son-to-school\n",
      "NOT SOLVED\n"
     ]
    }
   ],
   "source": [
    "gps.state = ['son-at-home', 'car-needs-battery', 'have-money', 'have-phone-book']\n",
    "gps.goals = ['son-at-school', 'have-money']\n",
    "gps.solve()"
   ]
  },
  {
   "cell_type": "markdown",
   "metadata": {},
   "source": [
    "De vierde beperking ontstaat door acties die lussen veroorzaken. Actie A heeft een preconditie die gerealiseerd kan worden door actie B, terwijl actie B een preconditie heeft die gerealiseerd kan worden door actie A."
   ]
  },
  {
   "cell_type": "code",
   "execution_count": 25,
   "metadata": {},
   "outputs": [
    {
     "ename": "RecursionError",
     "evalue": "maximum recursion depth exceeded",
     "output_type": "error",
     "traceback": [
      "\u001b[0;31m---------------------------------------------------------------------------\u001b[0m",
      "\u001b[0;31mRecursionError\u001b[0m                            Traceback (most recent call last)",
      "\u001b[0;32m<ipython-input-25-2d2369e23cfc>\u001b[0m in \u001b[0;36m<module>\u001b[0;34m()\u001b[0m\n\u001b[1;32m      2\u001b[0m \u001b[0mgps\u001b[0m\u001b[0;34m.\u001b[0m\u001b[0mstate\u001b[0m \u001b[0;34m=\u001b[0m \u001b[0;34m[\u001b[0m\u001b[0;34m'son-at-home'\u001b[0m\u001b[0;34m,\u001b[0m \u001b[0;34m'car-needs-battery'\u001b[0m\u001b[0;34m,\u001b[0m \u001b[0;34m'have-money'\u001b[0m\u001b[0;34m]\u001b[0m\u001b[0;34m\u001b[0m\u001b[0m\n\u001b[1;32m      3\u001b[0m \u001b[0mgps\u001b[0m\u001b[0;34m.\u001b[0m\u001b[0mgoal\u001b[0m \u001b[0;34m=\u001b[0m \u001b[0;34m[\u001b[0m\u001b[0;34m'son-at-school'\u001b[0m\u001b[0;34m]\u001b[0m\u001b[0;34m\u001b[0m\u001b[0m\n\u001b[0;32m----> 4\u001b[0;31m \u001b[0mgps\u001b[0m\u001b[0;34m.\u001b[0m\u001b[0msolve\u001b[0m\u001b[0;34m(\u001b[0m\u001b[0;34m)\u001b[0m \u001b[0;31m# geeft fout!!\u001b[0m\u001b[0;34m\u001b[0m\u001b[0m\n\u001b[0m",
      "\u001b[0;32m<ipython-input-18-3a5706e47358>\u001b[0m in \u001b[0;36msolve\u001b[0;34m(self)\u001b[0m\n\u001b[1;32m     65\u001b[0m     \u001b[0;32mdef\u001b[0m \u001b[0msolve\u001b[0m\u001b[0;34m(\u001b[0m\u001b[0mself\u001b[0m\u001b[0;34m)\u001b[0m\u001b[0;34m:\u001b[0m\u001b[0;34m\u001b[0m\u001b[0m\n\u001b[1;32m     66\u001b[0m         \u001b[0;31m# test of alle goals gerealiseerd kunnen worden\u001b[0m\u001b[0;34m\u001b[0m\u001b[0;34m\u001b[0m\u001b[0m\n\u001b[0;32m---> 67\u001b[0;31m         \u001b[0;32mif\u001b[0m \u001b[0mall\u001b[0m\u001b[0;34m(\u001b[0m\u001b[0mself\u001b[0m\u001b[0;34m.\u001b[0m\u001b[0machieve\u001b[0m\u001b[0;34m(\u001b[0m\u001b[0mgoal\u001b[0m\u001b[0;34m)\u001b[0m \u001b[0;32mfor\u001b[0m \u001b[0mgoal\u001b[0m \u001b[0;32min\u001b[0m \u001b[0mself\u001b[0m\u001b[0;34m.\u001b[0m\u001b[0mgoals\u001b[0m\u001b[0;34m)\u001b[0m\u001b[0;34m:\u001b[0m\u001b[0;34m\u001b[0m\u001b[0m\n\u001b[0m\u001b[1;32m     68\u001b[0m             \u001b[0mprint\u001b[0m\u001b[0;34m(\u001b[0m\u001b[0;34m\"SOLVED\"\u001b[0m\u001b[0;34m)\u001b[0m\u001b[0;34m\u001b[0m\u001b[0m\n\u001b[1;32m     69\u001b[0m         \u001b[0;32melse\u001b[0m\u001b[0;34m:\u001b[0m\u001b[0;34m\u001b[0m\u001b[0m\n",
      "\u001b[0;32m<ipython-input-18-3a5706e47358>\u001b[0m in \u001b[0;36m<genexpr>\u001b[0;34m(.0)\u001b[0m\n\u001b[1;32m     65\u001b[0m     \u001b[0;32mdef\u001b[0m \u001b[0msolve\u001b[0m\u001b[0;34m(\u001b[0m\u001b[0mself\u001b[0m\u001b[0;34m)\u001b[0m\u001b[0;34m:\u001b[0m\u001b[0;34m\u001b[0m\u001b[0m\n\u001b[1;32m     66\u001b[0m         \u001b[0;31m# test of alle goals gerealiseerd kunnen worden\u001b[0m\u001b[0;34m\u001b[0m\u001b[0;34m\u001b[0m\u001b[0m\n\u001b[0;32m---> 67\u001b[0;31m         \u001b[0;32mif\u001b[0m \u001b[0mall\u001b[0m\u001b[0;34m(\u001b[0m\u001b[0mself\u001b[0m\u001b[0;34m.\u001b[0m\u001b[0machieve\u001b[0m\u001b[0;34m(\u001b[0m\u001b[0mgoal\u001b[0m\u001b[0;34m)\u001b[0m \u001b[0;32mfor\u001b[0m \u001b[0mgoal\u001b[0m \u001b[0;32min\u001b[0m \u001b[0mself\u001b[0m\u001b[0;34m.\u001b[0m\u001b[0mgoals\u001b[0m\u001b[0;34m)\u001b[0m\u001b[0;34m:\u001b[0m\u001b[0;34m\u001b[0m\u001b[0m\n\u001b[0m\u001b[1;32m     68\u001b[0m             \u001b[0mprint\u001b[0m\u001b[0;34m(\u001b[0m\u001b[0;34m\"SOLVED\"\u001b[0m\u001b[0;34m)\u001b[0m\u001b[0;34m\u001b[0m\u001b[0m\n\u001b[1;32m     69\u001b[0m         \u001b[0;32melse\u001b[0m\u001b[0;34m:\u001b[0m\u001b[0;34m\u001b[0m\u001b[0m\n",
      "\u001b[0;32m<ipython-input-18-3a5706e47358>\u001b[0m in \u001b[0;36machieve\u001b[0;34m(self, goal)\u001b[0m\n\u001b[1;32m     57\u001b[0m             \u001b[0;32mfor\u001b[0m \u001b[0mop\u001b[0m \u001b[0;32min\u001b[0m \u001b[0mself\u001b[0m\u001b[0;34m.\u001b[0m\u001b[0mops\u001b[0m\u001b[0;34m.\u001b[0m\u001b[0mfind_ops\u001b[0m\u001b[0;34m(\u001b[0m\u001b[0mgoal\u001b[0m\u001b[0;34m)\u001b[0m\u001b[0;34m:\u001b[0m\u001b[0;34m\u001b[0m\u001b[0m\n\u001b[1;32m     58\u001b[0m                 \u001b[0;31m# test of alle pre-conditities gerealiseerd kunnen worden\u001b[0m\u001b[0;34m\u001b[0m\u001b[0;34m\u001b[0m\u001b[0m\n\u001b[0;32m---> 59\u001b[0;31m                 \u001b[0;32mif\u001b[0m \u001b[0mall\u001b[0m\u001b[0;34m(\u001b[0m\u001b[0mself\u001b[0m\u001b[0;34m.\u001b[0m\u001b[0machieve\u001b[0m\u001b[0;34m(\u001b[0m\u001b[0mc\u001b[0m\u001b[0;34m)\u001b[0m \u001b[0;32mfor\u001b[0m \u001b[0mc\u001b[0m \u001b[0;32min\u001b[0m \u001b[0mop\u001b[0m\u001b[0;34m[\u001b[0m\u001b[0;34m'preconds'\u001b[0m\u001b[0;34m]\u001b[0m\u001b[0;34m)\u001b[0m\u001b[0;34m:\u001b[0m\u001b[0;34m\u001b[0m\u001b[0m\n\u001b[0m\u001b[1;32m     60\u001b[0m                     \u001b[0mprint\u001b[0m\u001b[0;34m(\u001b[0m\u001b[0;34m\"EXECUTING {}\"\u001b[0m\u001b[0;34m.\u001b[0m\u001b[0mformat\u001b[0m\u001b[0;34m(\u001b[0m\u001b[0mop\u001b[0m\u001b[0;34m[\u001b[0m\u001b[0;34m'action'\u001b[0m\u001b[0;34m]\u001b[0m\u001b[0;34m)\u001b[0m\u001b[0;34m)\u001b[0m\u001b[0;34m\u001b[0m\u001b[0m\n\u001b[1;32m     61\u001b[0m                     \u001b[0mself\u001b[0m\u001b[0;34m.\u001b[0m\u001b[0mstate\u001b[0m \u001b[0;34m=\u001b[0m \u001b[0mops\u001b[0m\u001b[0;34m.\u001b[0m\u001b[0mapply\u001b[0m\u001b[0;34m(\u001b[0m\u001b[0mself\u001b[0m\u001b[0;34m.\u001b[0m\u001b[0mstate\u001b[0m\u001b[0;34m,\u001b[0m \u001b[0mop\u001b[0m\u001b[0;34m)\u001b[0m\u001b[0;34m\u001b[0m\u001b[0m\n",
      "\u001b[0;32m<ipython-input-18-3a5706e47358>\u001b[0m in \u001b[0;36m<genexpr>\u001b[0;34m(.0)\u001b[0m\n\u001b[1;32m     57\u001b[0m             \u001b[0;32mfor\u001b[0m \u001b[0mop\u001b[0m \u001b[0;32min\u001b[0m \u001b[0mself\u001b[0m\u001b[0;34m.\u001b[0m\u001b[0mops\u001b[0m\u001b[0;34m.\u001b[0m\u001b[0mfind_ops\u001b[0m\u001b[0;34m(\u001b[0m\u001b[0mgoal\u001b[0m\u001b[0;34m)\u001b[0m\u001b[0;34m:\u001b[0m\u001b[0;34m\u001b[0m\u001b[0m\n\u001b[1;32m     58\u001b[0m                 \u001b[0;31m# test of alle pre-conditities gerealiseerd kunnen worden\u001b[0m\u001b[0;34m\u001b[0m\u001b[0;34m\u001b[0m\u001b[0m\n\u001b[0;32m---> 59\u001b[0;31m                 \u001b[0;32mif\u001b[0m \u001b[0mall\u001b[0m\u001b[0;34m(\u001b[0m\u001b[0mself\u001b[0m\u001b[0;34m.\u001b[0m\u001b[0machieve\u001b[0m\u001b[0;34m(\u001b[0m\u001b[0mc\u001b[0m\u001b[0;34m)\u001b[0m \u001b[0;32mfor\u001b[0m \u001b[0mc\u001b[0m \u001b[0;32min\u001b[0m \u001b[0mop\u001b[0m\u001b[0;34m[\u001b[0m\u001b[0;34m'preconds'\u001b[0m\u001b[0;34m]\u001b[0m\u001b[0;34m)\u001b[0m\u001b[0;34m:\u001b[0m\u001b[0;34m\u001b[0m\u001b[0m\n\u001b[0m\u001b[1;32m     60\u001b[0m                     \u001b[0mprint\u001b[0m\u001b[0;34m(\u001b[0m\u001b[0;34m\"EXECUTING {}\"\u001b[0m\u001b[0;34m.\u001b[0m\u001b[0mformat\u001b[0m\u001b[0;34m(\u001b[0m\u001b[0mop\u001b[0m\u001b[0;34m[\u001b[0m\u001b[0;34m'action'\u001b[0m\u001b[0;34m]\u001b[0m\u001b[0;34m)\u001b[0m\u001b[0;34m)\u001b[0m\u001b[0;34m\u001b[0m\u001b[0m\n\u001b[1;32m     61\u001b[0m                     \u001b[0mself\u001b[0m\u001b[0;34m.\u001b[0m\u001b[0mstate\u001b[0m \u001b[0;34m=\u001b[0m \u001b[0mops\u001b[0m\u001b[0;34m.\u001b[0m\u001b[0mapply\u001b[0m\u001b[0;34m(\u001b[0m\u001b[0mself\u001b[0m\u001b[0;34m.\u001b[0m\u001b[0mstate\u001b[0m\u001b[0;34m,\u001b[0m \u001b[0mop\u001b[0m\u001b[0;34m)\u001b[0m\u001b[0;34m\u001b[0m\u001b[0m\n",
      "... last 2 frames repeated, from the frame below ...\n",
      "\u001b[0;32m<ipython-input-18-3a5706e47358>\u001b[0m in \u001b[0;36machieve\u001b[0;34m(self, goal)\u001b[0m\n\u001b[1;32m     57\u001b[0m             \u001b[0;32mfor\u001b[0m \u001b[0mop\u001b[0m \u001b[0;32min\u001b[0m \u001b[0mself\u001b[0m\u001b[0;34m.\u001b[0m\u001b[0mops\u001b[0m\u001b[0;34m.\u001b[0m\u001b[0mfind_ops\u001b[0m\u001b[0;34m(\u001b[0m\u001b[0mgoal\u001b[0m\u001b[0;34m)\u001b[0m\u001b[0;34m:\u001b[0m\u001b[0;34m\u001b[0m\u001b[0m\n\u001b[1;32m     58\u001b[0m                 \u001b[0;31m# test of alle pre-conditities gerealiseerd kunnen worden\u001b[0m\u001b[0;34m\u001b[0m\u001b[0;34m\u001b[0m\u001b[0m\n\u001b[0;32m---> 59\u001b[0;31m                 \u001b[0;32mif\u001b[0m \u001b[0mall\u001b[0m\u001b[0;34m(\u001b[0m\u001b[0mself\u001b[0m\u001b[0;34m.\u001b[0m\u001b[0machieve\u001b[0m\u001b[0;34m(\u001b[0m\u001b[0mc\u001b[0m\u001b[0;34m)\u001b[0m \u001b[0;32mfor\u001b[0m \u001b[0mc\u001b[0m \u001b[0;32min\u001b[0m \u001b[0mop\u001b[0m\u001b[0;34m[\u001b[0m\u001b[0;34m'preconds'\u001b[0m\u001b[0;34m]\u001b[0m\u001b[0;34m)\u001b[0m\u001b[0;34m:\u001b[0m\u001b[0;34m\u001b[0m\u001b[0m\n\u001b[0m\u001b[1;32m     60\u001b[0m                     \u001b[0mprint\u001b[0m\u001b[0;34m(\u001b[0m\u001b[0;34m\"EXECUTING {}\"\u001b[0m\u001b[0;34m.\u001b[0m\u001b[0mformat\u001b[0m\u001b[0;34m(\u001b[0m\u001b[0mop\u001b[0m\u001b[0;34m[\u001b[0m\u001b[0;34m'action'\u001b[0m\u001b[0;34m]\u001b[0m\u001b[0;34m)\u001b[0m\u001b[0;34m)\u001b[0m\u001b[0;34m\u001b[0m\u001b[0m\n\u001b[1;32m     61\u001b[0m                     \u001b[0mself\u001b[0m\u001b[0;34m.\u001b[0m\u001b[0mstate\u001b[0m \u001b[0;34m=\u001b[0m \u001b[0mops\u001b[0m\u001b[0;34m.\u001b[0m\u001b[0mapply\u001b[0m\u001b[0;34m(\u001b[0m\u001b[0mself\u001b[0m\u001b[0;34m.\u001b[0m\u001b[0mstate\u001b[0m\u001b[0;34m,\u001b[0m \u001b[0mop\u001b[0m\u001b[0;34m)\u001b[0m\u001b[0;34m\u001b[0m\u001b[0m\n",
      "\u001b[0;31mRecursionError\u001b[0m: maximum recursion depth exceeded"
     ]
    }
   ],
   "source": [
    "gps.ops.make_op(action = 'ask-phone-number', \\\n",
    "                preconds = ['in-communication-with-shop'], \\\n",
    "                add_list = ['know-phone-number'], \\\n",
    "                front_of_list=True)\n",
    "gps.state = ['son-at-home', 'car-needs-battery', 'have-money']\n",
    "gps.goal = ['son-at-school']\n",
    "gps.solve() # geeft fout!!"
   ]
  },
  {
   "cell_type": "markdown",
   "metadata": {},
   "source": [
    "Deze beperking kan opgelost worden door bij te houden aan welke doelen er gewerkt wordt. Zodra een lus wordt gedetecteerd moet de executie worden opgegeven.\n",
    "\n",
    "De laatste beperking is dat GPS geen debug informatie laat zien. Als er geen oplossing is dan hebben we geen inzicht waarom dat zo is."
   ]
  },
  {
   "cell_type": "code",
   "execution_count": 312,
   "metadata": {
    "collapsed": true
   },
   "outputs": [],
   "source": [
    "# Verbeterde General Problem Solver\n",
    "class GPS2:\n",
    "    def __init__(self, ops, state=[], goals=[]):\n",
    "        self.state = state\n",
    "        self.goals = goals\n",
    "        self.ops = ops\n",
    "        self.debug = False\n",
    "        self.goal_stack = []\n",
    "        self.plan = []\n",
    "        \n",
    "    def achieve_all(self, state, goals):\n",
    "        \"\"\"Realiseer elk doel en test dat ze gezamelijk bereikt worden.\"\"\"\n",
    "        for goal in goals:\n",
    "            # debug\n",
    "            if self.debug:\n",
    "                print(\"{}GOAL: {}\".format(len(self.goal_stack) * '  ', goal))\n",
    "            \n",
    "            self.goal_stack.insert(0, goal)\n",
    "            result, state = self.achieve(state, goal)\n",
    "            self.goal_stack.pop(0)\n",
    "            \n",
    "            if result==False:\n",
    "                return False, state\n",
    "            \n",
    "        if all(g in state for g in goals):\n",
    "            return True, state\n",
    "        \n",
    "        return False, state\n",
    "        \n",
    "    def achieve(self, state, goal):\n",
    "        if goal in state:\n",
    "            # Als goal al is bereikt in huidige state dan return True\n",
    "            return True, state\n",
    "        elif goal in self.goal_stack[1:]:\n",
    "            # Als er al aan goal gewerkt wordt, return False om lussen te voorkomen\n",
    "            return False, state\n",
    "\n",
    "        # Als goal nog niet is bereikt, zoek een actie waarmee goal\n",
    "        # bereikt kan worden\n",
    "        for op in self.ops.find_ops(goal):  \n",
    "            # debug\n",
    "            if self.debug:\n",
    "                print(\"{}CONSIDER {}\".format((len(self.goal_stack)-1) * '  ', op['action']))\n",
    "\n",
    "            # test of alle pre-conditities gerealiseerd kunnen worden\n",
    "            result, state = self.achieve_all(state, op['preconds'])\n",
    "\n",
    "            if result == True:\n",
    "                # debug\n",
    "                if self.debug:\n",
    "                    print(\"{}Action {}\".format((len(self.goal_stack)) * '  ', op['action']))\n",
    "                self.plan.append(op['action'])\n",
    "                return True, ops.apply(state, op)\n",
    "        \n",
    "        return False, state\n",
    "            \n",
    "    def solve(self, debug=False):\n",
    "        self.debug = debug\n",
    "                    \n",
    "        # test of alle goals gerealiseerd kunnen worden\n",
    "        self.goal_stack = []\n",
    "        self.plan = []\n",
    "        result, new_state = self.achieve_all(self.state, self.goals)\n",
    "        if result:\n",
    "            if len(self.plan) == 0:\n",
    "                print(\"((START))\")\n",
    "            else:\n",
    "                print(\"((START)\")\n",
    "                for a in self.plan[:-1]:\n",
    "                    print(\" (EXECUTING {})\".format(a))\n",
    "                print(\" (EXECUTING {}))\".format(self.plan[-1]))\n",
    "            self.state = list(new_state)\n",
    "        else:\n",
    "            print(\"NOT SOLVED\")\n",
    "            \n",
    "gps2 = GPS2(ops)"
   ]
  },
  {
   "cell_type": "code",
   "execution_count": 313,
   "metadata": {},
   "outputs": [
    {
     "name": "stdout",
     "output_type": "stream",
     "text": [
      "((START)\n",
      " (EXECUTING look-up-number)\n",
      " (EXECUTING telephone-shop)\n",
      " (EXECUTING tell-shop-problem)\n",
      " (EXECUTING give-shop-money)\n",
      " (EXECUTING shop-installs-battery)\n",
      " (EXECUTING drive-son-to-school))\n"
     ]
    }
   ],
   "source": [
    "gps2.state = ['son-at-home', 'car-needs-battery', 'have-money', 'have-phone-book']\n",
    "gps2.goals = ['son-at-school']\n",
    "gps2.solve(debug=False)"
   ]
  },
  {
   "cell_type": "code",
   "execution_count": 314,
   "metadata": {},
   "outputs": [
    {
     "name": "stdout",
     "output_type": "stream",
     "text": [
      "((START)\n",
      " (EXECUTING drive-son-to-school))\n"
     ]
    }
   ],
   "source": [
    "gps2.state = ['son-at-home', 'car-works']\n",
    "gps2.goals = ['son-at-school']\n",
    "gps2.solve(debug=False)"
   ]
  },
  {
   "cell_type": "code",
   "execution_count": 315,
   "metadata": {},
   "outputs": [
    {
     "name": "stdout",
     "output_type": "stream",
     "text": [
      "NOT SOLVED\n"
     ]
    }
   ],
   "source": [
    "gps2.state = ['son-at-home', 'car-needs-battery', 'have-money', 'have-phone-book']\n",
    "gps2.goals = ['have-money', 'son-at-school']\n",
    "gps2.solve(debug=False)"
   ]
  },
  {
   "cell_type": "code",
   "execution_count": 316,
   "metadata": {},
   "outputs": [
    {
     "name": "stdout",
     "output_type": "stream",
     "text": [
      "NOT SOLVED\n"
     ]
    }
   ],
   "source": [
    "gps2.state = ['son-at-home', 'car-needs-battery', 'have-money', 'have-phone-book']\n",
    "gps2.goals = ['son-at-school', 'have-money']\n",
    "gps2.solve()"
   ]
  },
  {
   "cell_type": "code",
   "execution_count": 317,
   "metadata": {},
   "outputs": [
    {
     "name": "stdout",
     "output_type": "stream",
     "text": [
      "NOT SOLVED\n"
     ]
    }
   ],
   "source": [
    "gps2.state = ['son-at-home', 'car-needs-battery', 'have-money']\n",
    "gps2.goals = ['son-at-school']\n",
    "gps2.solve()"
   ]
  },
  {
   "cell_type": "code",
   "execution_count": 318,
   "metadata": {},
   "outputs": [
    {
     "name": "stdout",
     "output_type": "stream",
     "text": [
      "((START))\n"
     ]
    }
   ],
   "source": [
    "gps2.state = ['son-at-home']\n",
    "gps2.goals = ['son-at-home']\n",
    "gps2.solve()"
   ]
  },
  {
   "cell_type": "markdown",
   "metadata": {},
   "source": [
    "## Apen en bananen probleem\n",
    "\n",
    "Om te laten zien dat GPS2 voor een willekeurig probleem domein gebruikt kan worden gaan we een andere probleem oplossen. Dit is een klassiek AI probleem met een aap en een banaan. Het probleem is als volgt:\n",
    "\n",
    "Een aap staat in een kamer. In het midden van de kamer hangt een banaan aan het plafond met een touw. De aap kan hier niet direct bij. Er staat in de kamer een stoel die, als deze onder de banaan geplaatst wordt, de aap in staat stelt de banaan te pakken. Om het probleem iets moeilijker te maken geven we de aap een stuk speelgoed om vast te houden. Hij kan pas de banaan pakken als zijn handen leeg zijn.\n",
    "\n",
    "Om dit probleem met GPS2 op te lossen hoeven we de code van GPS2 niet meer aan te passen. Wel moeten we nieuwe domein kennis (de acties, state en goal) invoeren."
   ]
  },
  {
   "cell_type": "code",
   "execution_count": 319,
   "metadata": {
    "collapsed": true
   },
   "outputs": [],
   "source": [
    "banana_ops = Operators()\n",
    "    \n",
    "banana_ops.make_op(action   = 'climb-on-chair', \\\n",
    "                   preconds = ['chair-at-middle-room', 'at-middle-room', 'on-floor'], \\\n",
    "                   add_list = ['at-bananas', 'on-chair'], \\\n",
    "                   del_list = ['at-middle-room', 'on-floor'])\n",
    "\n",
    "banana_ops.make_op(action   = 'push-chair-from-door-to-middle-room', \\\n",
    "                   preconds = ['chair-at-door', 'at-door'], \\\n",
    "                   add_list = ['chair-at-middle-room', 'at-middle-room'], \\\n",
    "                   del_list = ['chair-at-door', 'at-door'])\n",
    "\n",
    "banana_ops.make_op(action   = 'walk-from-door-to-middle-room', \\\n",
    "                   preconds = ['at-door', 'on-floor'], \\\n",
    "                   add_list = ['at-middle-room'], \\\n",
    "                   del_list = ['at-door'])\n",
    "\n",
    "banana_ops.make_op(action   = 'grasp-bananas', \\\n",
    "                   preconds = ['at-bananas', 'empty-handed'], \\\n",
    "                   add_list = ['has-bananas'], \\\n",
    "                   del_list = ['empty-handed'])\n",
    "\n",
    "banana_ops.make_op(action   = 'drop-ball', \\\n",
    "                   preconds = ['has-ball'], \\\n",
    "                   add_list = ['empty-handed'], \\\n",
    "                   del_list = ['has-ball'])\n",
    "\n",
    "banana_ops.make_op(action   = 'eat-bananas', \\\n",
    "                   preconds = ['has-bananas'], \\\n",
    "                   add_list = ['empty-handed', 'not-hungry'], \\\n",
    "                   del_list = ['has-bananas', 'hungry'])\n",
    "\n",
    "gps2 = GPS2(banana_ops)"
   ]
  },
  {
   "cell_type": "code",
   "execution_count": 320,
   "metadata": {},
   "outputs": [
    {
     "name": "stdout",
     "output_type": "stream",
     "text": [
      "((START)\n",
      " (EXECUTING push-chair-from-door-to-middle-room)\n",
      " (EXECUTING climb-on-chair)\n",
      " (EXECUTING drop-ball)\n",
      " (EXECUTING grasp-bananas)\n",
      " (EXECUTING eat-bananas))\n"
     ]
    }
   ],
   "source": [
    "gps2.state = ['at-door', 'on-floor', 'has-ball', 'hungry', 'chair-at-door']\n",
    "gps2.goals = ['not-hungry']\n",
    "gps2.solve()"
   ]
  },
  {
   "cell_type": "markdown",
   "metadata": {},
   "source": [
    "## Doolhof probleem\n",
    "\n",
    "Een ander bekend AI probleem is het doolhof probleem. We moeten vanaf een start positie naar een eind positie lopen door een doolhof. GPS2 kan ook dit probleem oplossen. Wederom hoeft de code van GPS2 niet aangepast te worden. Wel moeten we weer domein kennis (acties, state en goal) definiëren.\n",
    "\n",
    "```\n",
    "---------------------\n",
    "| 1   2   3   4 | 5 |\n",
    "|-----------    |   |\n",
    "| 6 | 7   8   9 | 10|\n",
    "|        ----   |   |\n",
    "| 11  12  13| 14| 15|\n",
    "|    -----------    |\n",
    "| 16  17| 18| 19  20|\n",
    "|---                |\n",
    "| 21  22  23  24| 25|\n",
    "---------------------\n",
    "\n",
    "```\n"
   ]
  },
  {
   "cell_type": "code",
   "execution_count": 321,
   "metadata": {},
   "outputs": [],
   "source": [
    "maze_ops = Operators()\n",
    "\n",
    "def make_maze_op(maze_ops, move_from, move_to):\n",
    "    \"\"\"Doolhof verplaats actie.\"\"\"\n",
    "    maze_ops.make_op(action   = \"move from {} to {}\".format(move_from, move_to), \\\n",
    "                     preconds = [\"at {}\".format(move_from)], \\\n",
    "                     add_list = [\"at {}\".format(move_to)], \\\n",
    "                     del_list = [\"at {}\".format(move_from)])\n",
    "\n",
    "def make_maze_ops(maze_ops, A, B):\n",
    "    \"\"\"Maak doolhof verplaats actie in beide richtingen.\"\"\"\n",
    "    make_maze_op(maze_ops, A, B)\n",
    "    make_maze_op(maze_ops, B, A)\n",
    "    \n",
    "    \n",
    "make_maze_ops(maze_ops, 1, 2)\n",
    "make_maze_ops(maze_ops, 2, 3)\n",
    "make_maze_ops(maze_ops, 3, 4)\n",
    "make_maze_ops(maze_ops, 4, 9)\n",
    "make_maze_ops(maze_ops, 9, 14)\n",
    "make_maze_ops(maze_ops, 9, 8)\n",
    "make_maze_ops(maze_ops, 8, 7)\n",
    "make_maze_ops(maze_ops, 7, 12)\n",
    "make_maze_ops(maze_ops, 12, 13)\n",
    "make_maze_ops(maze_ops, 12, 11)\n",
    "make_maze_ops(maze_ops, 11, 6)\n",
    "make_maze_ops(maze_ops, 11, 16)\n",
    "make_maze_ops(maze_ops, 16, 17)\n",
    "make_maze_ops(maze_ops, 17, 22)\n",
    "make_maze_ops(maze_ops, 22, 21)\n",
    "make_maze_ops(maze_ops, 22, 23)\n",
    "make_maze_ops(maze_ops, 23, 18)\n",
    "make_maze_ops(maze_ops, 23, 24)\n",
    "make_maze_ops(maze_ops, 24, 19)\n",
    "make_maze_ops(maze_ops, 19, 20)\n",
    "make_maze_ops(maze_ops, 20, 15)\n",
    "make_maze_ops(maze_ops, 15, 10)\n",
    "make_maze_ops(maze_ops, 10, 5)\n",
    "make_maze_ops(maze_ops, 20, 25)\n",
    "\n",
    "gps2 = GPS2(maze_ops)"
   ]
  },
  {
   "cell_type": "code",
   "execution_count": 322,
   "metadata": {},
   "outputs": [
    {
     "name": "stdout",
     "output_type": "stream",
     "text": [
      "((START)\n",
      " (EXECUTING move from 1 to 2)\n",
      " (EXECUTING move from 2 to 3)\n",
      " (EXECUTING move from 3 to 4)\n",
      " (EXECUTING move from 4 to 9)\n",
      " (EXECUTING move from 9 to 8)\n",
      " (EXECUTING move from 8 to 7)\n",
      " (EXECUTING move from 7 to 12)\n",
      " (EXECUTING move from 12 to 11)\n",
      " (EXECUTING move from 11 to 16)\n",
      " (EXECUTING move from 16 to 17)\n",
      " (EXECUTING move from 17 to 22)\n",
      " (EXECUTING move from 22 to 23)\n",
      " (EXECUTING move from 23 to 24)\n",
      " (EXECUTING move from 24 to 19)\n",
      " (EXECUTING move from 19 to 20)\n",
      " (EXECUTING move from 20 to 25))\n"
     ]
    }
   ],
   "source": [
    "gps2.state = ['at 1']\n",
    "gps2.goals = ['at 25']\n",
    "gps2.solve()"
   ]
  },
  {
   "cell_type": "markdown",
   "metadata": {},
   "source": [
    "## Block world\n"
   ]
  },
  {
   "cell_type": "code",
   "execution_count": 323,
   "metadata": {},
   "outputs": [],
   "source": [
    "import itertools\n",
    "\n",
    "block2_ops = Operators()\n",
    "\n",
    "def move_op(block_ops, a, b, c):\n",
    "    \"\"\"Verplaats block a van b naar c.\"\"\"\n",
    "    block_ops.make_op(action   = \"move {} from {} to {}\".format(a, b, c), \\\n",
    "                      preconds = [\"space-on-{}\".format(a), \"space-on-{}\".format(c), \"{}-on-{}\".format(a, b)], \\\n",
    "                      add_list = move_ons(a, b, c), \\\n",
    "                      del_list = move_ons(a, c, b),\n",
    "                      front_of_list = True)\n",
    "    \n",
    "def move_ons(a, b, c):\n",
    "    if b=='table':\n",
    "        return [\"{}-on-{}\".format(a, c)]\n",
    "    return [\"{}-on-{}\".format(a, c), \"space-on-{}\".format(b),]\n",
    "        \n",
    "    \n",
    "def make_block_ops(block_ops, blocks):\n",
    "    for a in blocks:\n",
    "        for b in blocks:\n",
    "            if a != b:\n",
    "                for c in blocks:\n",
    "                    if (c != a) and (c != b):\n",
    "                        move_op(block_ops, a, b, c)\n",
    "                move_op(block_ops, a, 'table', b)\n",
    "                move_op(block_ops, a, b, 'table')\n",
    "        \n",
    "make_block_ops(block2_ops, ['a', 'b'])\n",
    "gps2 = GPS2(block2_ops)"
   ]
  },
  {
   "cell_type": "code",
   "execution_count": 324,
   "metadata": {},
   "outputs": [
    {
     "data": {
      "text/plain": [
       "[{'action': 'move b from a to table',\n",
       "  'add_list': ['b-on-table', 'space-on-a'],\n",
       "  'del_list': ['b-on-a'],\n",
       "  'preconds': ['space-on-b', 'space-on-table', 'b-on-a']},\n",
       " {'action': 'move b from table to a',\n",
       "  'add_list': ['b-on-a'],\n",
       "  'del_list': ['b-on-table', 'space-on-a'],\n",
       "  'preconds': ['space-on-b', 'space-on-a', 'b-on-table']},\n",
       " {'action': 'move a from b to table',\n",
       "  'add_list': ['a-on-table', 'space-on-b'],\n",
       "  'del_list': ['a-on-b'],\n",
       "  'preconds': ['space-on-a', 'space-on-table', 'a-on-b']},\n",
       " {'action': 'move a from table to b',\n",
       "  'add_list': ['a-on-b'],\n",
       "  'del_list': ['a-on-table', 'space-on-b'],\n",
       "  'preconds': ['space-on-a', 'space-on-b', 'a-on-table']}]"
      ]
     },
     "execution_count": 324,
     "metadata": {},
     "output_type": "execute_result"
    }
   ],
   "source": [
    "block2_ops.ops"
   ]
  },
  {
   "cell_type": "code",
   "execution_count": 325,
   "metadata": {},
   "outputs": [
    {
     "name": "stdout",
     "output_type": "stream",
     "text": [
      "((START)\n",
      " (EXECUTING move a from table to b))\n"
     ]
    }
   ],
   "source": [
    "gps2.state = ['a-on-table', 'b-on-table', 'space-on-a', 'space-on-b', 'space-on-table']\n",
    "gps2.goals = ['a-on-b', 'b-on-table']\n",
    "gps2.solve()"
   ]
  },
  {
   "cell_type": "markdown",
   "metadata": {},
   "source": [
    "Wissel de blokken om."
   ]
  },
  {
   "cell_type": "code",
   "execution_count": 326,
   "metadata": {},
   "outputs": [
    {
     "name": "stdout",
     "output_type": "stream",
     "text": [
      "((START)\n",
      " (EXECUTING move a from b to table)\n",
      " (EXECUTING move b from table to a))\n"
     ]
    }
   ],
   "source": [
    "gps2.state = ['a-on-b', 'b-on-table', 'space-on-a', 'space-on-table']\n",
    "gps2.goals = ['b-on-a', 'a-on-table']\n",
    "gps2.solve(debug=False)"
   ]
  },
  {
   "cell_type": "code",
   "execution_count": 594,
   "metadata": {},
   "outputs": [],
   "source": [
    "block3_ops = Operators()\n",
    "    \n",
    "make_block_ops(block3_ops, ['a', 'b', 'c'])\n",
    "gps2 = GPS2(block3_ops)"
   ]
  },
  {
   "cell_type": "code",
   "execution_count": 595,
   "metadata": {},
   "outputs": [
    {
     "data": {
      "text/plain": [
       "[{'action': 'move c from b to table',\n",
       "  'add_list': ['c-on-table', 'space-on-b'],\n",
       "  'del_list': ['c-on-b'],\n",
       "  'preconds': ['space-on-c', 'space-on-table', 'c-on-b']},\n",
       " {'action': 'move c from table to b',\n",
       "  'add_list': ['c-on-b'],\n",
       "  'del_list': ['c-on-table', 'space-on-b'],\n",
       "  'preconds': ['space-on-c', 'space-on-b', 'c-on-table']},\n",
       " {'action': 'move c from b to a',\n",
       "  'add_list': ['c-on-a', 'space-on-b'],\n",
       "  'del_list': ['c-on-b', 'space-on-a'],\n",
       "  'preconds': ['space-on-c', 'space-on-a', 'c-on-b']},\n",
       " {'action': 'move c from a to table',\n",
       "  'add_list': ['c-on-table', 'space-on-a'],\n",
       "  'del_list': ['c-on-a'],\n",
       "  'preconds': ['space-on-c', 'space-on-table', 'c-on-a']},\n",
       " {'action': 'move c from table to a',\n",
       "  'add_list': ['c-on-a'],\n",
       "  'del_list': ['c-on-table', 'space-on-a'],\n",
       "  'preconds': ['space-on-c', 'space-on-a', 'c-on-table']},\n",
       " {'action': 'move c from a to b',\n",
       "  'add_list': ['c-on-b', 'space-on-a'],\n",
       "  'del_list': ['c-on-a', 'space-on-b'],\n",
       "  'preconds': ['space-on-c', 'space-on-b', 'c-on-a']},\n",
       " {'action': 'move b from c to table',\n",
       "  'add_list': ['b-on-table', 'space-on-c'],\n",
       "  'del_list': ['b-on-c'],\n",
       "  'preconds': ['space-on-b', 'space-on-table', 'b-on-c']},\n",
       " {'action': 'move b from table to c',\n",
       "  'add_list': ['b-on-c'],\n",
       "  'del_list': ['b-on-table', 'space-on-c'],\n",
       "  'preconds': ['space-on-b', 'space-on-c', 'b-on-table']},\n",
       " {'action': 'move b from c to a',\n",
       "  'add_list': ['b-on-a', 'space-on-c'],\n",
       "  'del_list': ['b-on-c', 'space-on-a'],\n",
       "  'preconds': ['space-on-b', 'space-on-a', 'b-on-c']},\n",
       " {'action': 'move b from a to table',\n",
       "  'add_list': ['b-on-table', 'space-on-a'],\n",
       "  'del_list': ['b-on-a'],\n",
       "  'preconds': ['space-on-b', 'space-on-table', 'b-on-a']},\n",
       " {'action': 'move b from table to a',\n",
       "  'add_list': ['b-on-a'],\n",
       "  'del_list': ['b-on-table', 'space-on-a'],\n",
       "  'preconds': ['space-on-b', 'space-on-a', 'b-on-table']},\n",
       " {'action': 'move b from a to c',\n",
       "  'add_list': ['b-on-c', 'space-on-a'],\n",
       "  'del_list': ['b-on-a', 'space-on-c'],\n",
       "  'preconds': ['space-on-b', 'space-on-c', 'b-on-a']},\n",
       " {'action': 'move a from c to table',\n",
       "  'add_list': ['a-on-table', 'space-on-c'],\n",
       "  'del_list': ['a-on-c'],\n",
       "  'preconds': ['space-on-a', 'space-on-table', 'a-on-c']},\n",
       " {'action': 'move a from table to c',\n",
       "  'add_list': ['a-on-c'],\n",
       "  'del_list': ['a-on-table', 'space-on-c'],\n",
       "  'preconds': ['space-on-a', 'space-on-c', 'a-on-table']},\n",
       " {'action': 'move a from c to b',\n",
       "  'add_list': ['a-on-b', 'space-on-c'],\n",
       "  'del_list': ['a-on-c', 'space-on-b'],\n",
       "  'preconds': ['space-on-a', 'space-on-b', 'a-on-c']},\n",
       " {'action': 'move a from b to table',\n",
       "  'add_list': ['a-on-table', 'space-on-b'],\n",
       "  'del_list': ['a-on-b'],\n",
       "  'preconds': ['space-on-a', 'space-on-table', 'a-on-b']},\n",
       " {'action': 'move a from table to b',\n",
       "  'add_list': ['a-on-b'],\n",
       "  'del_list': ['a-on-table', 'space-on-b'],\n",
       "  'preconds': ['space-on-a', 'space-on-b', 'a-on-table']},\n",
       " {'action': 'move a from b to c',\n",
       "  'add_list': ['a-on-c', 'space-on-b'],\n",
       "  'del_list': ['a-on-b', 'space-on-c'],\n",
       "  'preconds': ['space-on-a', 'space-on-c', 'a-on-b']}]"
      ]
     },
     "execution_count": 595,
     "metadata": {},
     "output_type": "execute_result"
    }
   ],
   "source": [
    "gps2.ops.ops"
   ]
  },
  {
   "cell_type": "code",
   "execution_count": 329,
   "metadata": {},
   "outputs": [
    {
     "name": "stdout",
     "output_type": "stream",
     "text": [
      "((START)\n",
      " (EXECUTING move a from b to table)\n",
      " (EXECUTING move b from c to a)\n",
      " (EXECUTING move c from table to b))\n"
     ]
    }
   ],
   "source": [
    "gps2.state = ['a-on-b', 'b-on-c', 'c-on-table', 'space-on-a', 'space-on-table']\n",
    "gps2.goals = ['b-on-a', 'c-on-b']\n",
    "gps2.solve(debug=False)\n"
   ]
  },
  {
   "cell_type": "code",
   "execution_count": 330,
   "metadata": {},
   "outputs": [
    {
     "name": "stdout",
     "output_type": "stream",
     "text": [
      "NOT SOLVED\n"
     ]
    }
   ],
   "source": [
    "gps2.state = ['a-on-b', 'b-on-c', 'c-on-table', 'space-on-a', 'space-on-table']\n",
    "gps2.goals = ['c-on-b', 'b-on-a']\n",
    "gps2.solve(debug=False)"
   ]
  },
  {
   "cell_type": "markdown",
   "metadata": {},
   "source": [
    "## Cake\n"
   ]
  },
  {
   "cell_type": "code",
   "execution_count": 331,
   "metadata": {
    "collapsed": true
   },
   "outputs": [],
   "source": [
    "cake_ops = Operators()\n",
    "    \n",
    "cake_ops.make_op(action   = 'eat-cake', \\\n",
    "                   preconds = ['see-cake', 'hungry'], \\\n",
    "                   add_list = ['not-hungry'], \\\n",
    "                   del_list = ['see-cake', 'hungry'])\n",
    "\n",
    "cake_ops.make_op(action   = 'take-picture-cake', \\\n",
    "                   preconds = ['see-cake'], \\\n",
    "                   add_list = ['have-picture-cake'], \\\n",
    "                   del_list = [])\n",
    "\n",
    "gps2 = GPS2(cake_ops)"
   ]
  },
  {
   "cell_type": "code",
   "execution_count": 332,
   "metadata": {},
   "outputs": [
    {
     "name": "stdout",
     "output_type": "stream",
     "text": [
      "NOT SOLVED\n"
     ]
    }
   ],
   "source": [
    "gps2.state = ['hungry', 'see-cake']\n",
    "gps2.goals = ['not-hungry', 'have-picture-cake']\n",
    "gps2.solve()"
   ]
  },
  {
   "cell_type": "code",
   "execution_count": 593,
   "metadata": {},
   "outputs": [],
   "source": [
    "# Verbeterde General Problem Solver\n",
    "# Deze vesie is niet gevoelig voor de volgorde\n",
    "# van de doelen\n",
    "class GPS3:\n",
    "    def __init__(self, ops, state=[], goals=[]):\n",
    "        self.state = state\n",
    "        self.goals = goals\n",
    "        self.ops = ops\n",
    "        self.debug = False\n",
    "        self.goal_stack = []\n",
    "        self.plan = []\n",
    "        \n",
    "        self.levels = []\n",
    "            \n",
    "    def achieve_any_combination(self, state, goals, plan=[]):\n",
    "        prev_plan = list(plan)\n",
    "        prev_state = list(state)\n",
    "        result = False\n",
    "        for goals_perm in itertools.permutations(goals):\n",
    "            result, state, plan = self.achieve_all(prev_state, goals_perm, prev_plan)\n",
    "            if result:\n",
    "                return True, state, plan\n",
    "        return False, prev_state, prev_plan\n",
    "\n",
    "    def achieve_all(self, state, goals, plan):\n",
    "        \"\"\"Realiseer elk doel en test dat ze gezamelijk bereikt worden.\"\"\"\n",
    "        prev_plan = list(plan)\n",
    "        prev_state = list(state)\n",
    "        result = False\n",
    "        for goal in goals:\n",
    "            # debug\n",
    "            if self.debug:\n",
    "                print(\"{}GOAL: {}\".format(len(self.goal_stack) * '  ', goal))\n",
    "            result, state, plan = self.achieve(state, goal, plan)\n",
    "            if result==False:\n",
    "                break\n",
    "        if result:\n",
    "            if all(g in state for g in goals):\n",
    "                return True, state, plan\n",
    "        return False, prev_state, prev_plan\n",
    "        \n",
    "    def achieve(self, state, goal, plan):\n",
    "        if goal in state:\n",
    "            # Als goal al is bereikt in huidige state dan return True\n",
    "            return True, state, plan\n",
    "        elif goal in self.goal_stack[1:]:\n",
    "            # Als er al aan goal gewerkt wordt, return False om lussen te voorkomen\n",
    "            return False, state, plan\n",
    "\n",
    "        # Als goal nog niet is bereikt, zoek een actie waarmee goal\n",
    "        # bereikt kan worden\n",
    "        prev_state = list(state)\n",
    "        prev_plan = list(plan)\n",
    "        self.goal_stack.insert(0, goal)\n",
    "        for op in self.ops.find_ops(goal):  \n",
    "            # debug\n",
    "            if self.debug:\n",
    "                print(\"{}CONSIDER {}\".format((len(self.goal_stack)-1) * '  ', op['action']))\n",
    "            result = False\n",
    "            for goal_perm in itertools.permutations(op['preconds']):\n",
    "                state = prev_state\n",
    "                plan = prev_plan\n",
    "                for g in goal_perm:\n",
    "                    result, state, plan = self.achieve(state, g, plan)\n",
    "                    if result==False:\n",
    "                        break\n",
    "                if result:\n",
    "                    break\n",
    "            if result:\n",
    "                # debug\n",
    "                if self.debug:\n",
    "                    print(\"{}Action {}\".format((len(self.goal_stack)) * '  ', op['action']))\n",
    "                plan.append(op['action'])\n",
    "                self.goal_stack.pop(0)\n",
    "                return True, self.ops.apply(state, op), plan\n",
    "\n",
    "        self.goal_stack.pop(0)\n",
    "        return False, prev_state, prev_plan\n",
    "                \n",
    "    def solve(self, debug=False):\n",
    "        self.debug = debug\n",
    "        \n",
    "        # test of alle goals gerealiseerd kunnen worden\n",
    "        self.goal_stack = []\n",
    "        self.plan = []\n",
    "        result, new_state, self.plan = self.achieve_any_combination(self.state, self.goals)\n",
    "\n",
    "        if result:\n",
    "            if len(self.plan) == 0:\n",
    "                print(\"((START))\")\n",
    "            else:\n",
    "                print(\"((START)\")\n",
    "                for a in self.plan[:-1]:\n",
    "                    print(\" (EXECUTING {})\".format(a))\n",
    "                print(\" (EXECUTING {}))\".format(self.plan[-1]))\n",
    "            self.state = list(new_state)\n",
    "        else:\n",
    "            print(\"NOT SOLVED\")\n",
    "            \n",
    "gps3 = GPS3(cake_ops)"
   ]
  },
  {
   "cell_type": "code",
   "execution_count": 596,
   "metadata": {},
   "outputs": [
    {
     "name": "stdout",
     "output_type": "stream",
     "text": [
      "((START)\n",
      " (EXECUTING take-picture-cake)\n",
      " (EXECUTING eat-cake))\n"
     ]
    }
   ],
   "source": [
    "gps3.state = ['hungry', 'see-cake']\n",
    "gps3.goals = ['not-hungry', 'have-picture-cake']\n",
    "gps3.solve()"
   ]
  },
  {
   "cell_type": "code",
   "execution_count": 597,
   "metadata": {},
   "outputs": [
    {
     "name": "stdout",
     "output_type": "stream",
     "text": [
      "((START)\n",
      " (EXECUTING move a from b to table)\n",
      " (EXECUTING move b from c to a)\n",
      " (EXECUTING move c from table to b))\n"
     ]
    }
   ],
   "source": [
    "gps3 = GPS3(block3_ops)\n",
    "gps3.state = ['a-on-b', 'b-on-c', 'c-on-table', 'space-on-a', 'space-on-table']\n",
    "gps3.goals = ['c-on-b', 'b-on-a']\n",
    "gps3.solve(debug=False)"
   ]
  },
  {
   "cell_type": "code",
   "execution_count": 615,
   "metadata": {
    "collapsed": true
   },
   "outputs": [],
   "source": [
    "block4_ops = Operators()    \n",
    "make_block_ops(block4_ops, ['a', 'b', 'c', 'd'])"
   ]
  },
  {
   "cell_type": "code",
   "execution_count": 616,
   "metadata": {},
   "outputs": [
    {
     "name": "stdout",
     "output_type": "stream",
     "text": [
      "((START)\n",
      " (EXECUTING move a from b to table)\n",
      " (EXECUTING move b from c to table)\n",
      " (EXECUTING move c from d to table)\n",
      " (EXECUTING move a from table to d)\n",
      " (EXECUTING move a from d to table)\n",
      " (EXECUTING move d from table to c)\n",
      " (EXECUTING move d from c to a))\n"
     ]
    }
   ],
   "source": [
    "gps = GPS3(block4_ops)\n",
    "gps.state = ['a-on-b', 'b-on-c', 'c-on-d', 'd-on-table', 'space-on-a', 'space-on-table']\n",
    "gps.goals = ['a-on-table', 'd-on-a']\n",
    "gps.solve(debug=False)"
   ]
  },
  {
   "cell_type": "code",
   "execution_count": 620,
   "metadata": {},
   "outputs": [
    {
     "name": "stdout",
     "output_type": "stream",
     "text": [
      "((START)\n",
      " (EXECUTING move c from a to b)\n",
      " (EXECUTING move c from b to table)\n",
      " (EXECUTING move a from table to c)\n",
      " (EXECUTING move a from c to b))\n"
     ]
    }
   ],
   "source": [
    "block3_ops = Operators()    \n",
    "make_block_ops(block3_ops, ['a', 'b', 'c'])\n",
    "gps = GPS3(block3_ops)\n",
    "gps.state = ['c-on-a', 'a-on-table', 'b-on-table', 'space-on-c', 'space-on-b', 'space-on-table']\n",
    "gps.goals = ['c-on-table', 'a-on-b']\n",
    "gps.solve(debug=False)"
   ]
  },
  {
   "cell_type": "markdown",
   "metadata": {},
   "source": [
    "# Efficientie\n",
    "\n",
    "GPS3 is niet efficient met het plannen van de acties. Om de minst mogelijke acties te plannen zouden we alle mogelijke plannen moeten bekijken en vergelijken met elkaar. Het plan met het minst aantal acties zou de voorkeur hebben. Dit vereist een andere \"zoek strategie\". Dit is een heel eigen onderzoek binnen de AI (waar we op deze website nog aandacht aan gaan besteden). Voorlopig gaan we GPR efficienter maken door de mogelijke acties die beschikbaar zijn om een doel te realiseren te ordenen naar het aantal precondities waaraan reeds wordt voldaan."
   ]
  },
  {
   "cell_type": "code",
   "execution_count": 614,
   "metadata": {},
   "outputs": [],
   "source": [
    "# Verbeterde General Problem Solver\n",
    "# Deze versie selecteert de mogelijke acties\n",
    "# op een efficientere manier.\n",
    "class Operators:\n",
    "    \"\"\"\n",
    "    Acties die uitgevoerd kunnen worden om een (deel)probleem\n",
    "    op te lossen.\n",
    "    \"\"\"\n",
    "    def __init__(self):\n",
    "        self.ops = []    # lijst met acties\n",
    "\n",
    "    def make_op(self, action, preconds=[], add_list=[], del_list=[], front_of_list=False):\n",
    "        \"\"\"Voeg actie toe.\"\"\"\n",
    "        op = {'action'  : action, \\\n",
    "              'preconds': preconds, \\\n",
    "              'add_list': add_list, \\\n",
    "              'del_list': del_list }\n",
    "\n",
    "        if front_of_list:\n",
    "            self.ops.insert(0, op)\n",
    "        else:\n",
    "            self.ops.append(op)\n",
    "        \n",
    "    def find_ops(self, goal, state=[]):\n",
    "        \"\"\"Zoek alle acties om een goal te bereiken.\"\"\"\n",
    "        ops = [op for op in self.ops if goal in op['add_list']]\n",
    "        \n",
    "        return sorted(ops, key = lambda x : len(x['preconds']) - \\\n",
    "                           len(set(state).intersection(x['preconds'])))\n",
    "    \n",
    "    def apply(self, state, op):\n",
    "        \"\"\"Voer een actie uit.\"\"\"\n",
    "        return [s for s in state if s not in op['del_list']] + op['add_list']\n",
    "\n",
    "class GPS4:\n",
    "    def __init__(self, ops, state=[], goals=[]):\n",
    "        self.state = state\n",
    "        self.goals = goals\n",
    "        self.ops = ops\n",
    "        self.debug = False\n",
    "        self.goal_stack = []\n",
    "        self.plan = []\n",
    "        \n",
    "        self.levels = []\n",
    "            \n",
    "    def achieve_any_combination(self, state, goals, plan=[]):\n",
    "        prev_plan = list(plan)\n",
    "        prev_state = list(state)\n",
    "        result = False\n",
    "        for goals_perm in itertools.permutations(goals):\n",
    "            result, state, plan = self.achieve_all(prev_state, goals_perm, prev_plan)\n",
    "            if result:\n",
    "                return True, state, plan\n",
    "        return False, prev_state, prev_plan\n",
    "\n",
    "    def achieve_all(self, state, goals, plan):\n",
    "        \"\"\"Realiseer elk doel en test dat ze gezamelijk bereikt worden.\"\"\"\n",
    "        prev_plan = list(plan)\n",
    "        prev_state = list(state)\n",
    "        result = False\n",
    "        for goal in goals:\n",
    "            # debug\n",
    "            if self.debug:\n",
    "                print(\"{}GOAL: {}\".format(len(self.goal_stack) * '  ', goal))\n",
    "            result, state, plan = self.achieve(state, goal, plan)\n",
    "            if result==False:\n",
    "                break\n",
    "        if result:\n",
    "            if all(g in state for g in goals):\n",
    "                return True, state, plan\n",
    "        return False, prev_state, prev_plan\n",
    "        \n",
    "    def achieve(self, state, goal, plan):\n",
    "        if goal in state:\n",
    "            # Als goal al is bereikt in huidige state dan return True\n",
    "            return True, state, plan\n",
    "        elif goal in self.goal_stack[1:]:\n",
    "            # Als er al aan goal gewerkt wordt, return False om lussen te voorkomen\n",
    "            return False, state, plan\n",
    "\n",
    "        # Als goal nog niet is bereikt, zoek een actie waarmee goal\n",
    "        # bereikt kan worden\n",
    "        prev_state = list(state)\n",
    "        prev_plan = list(plan)\n",
    "        self.goal_stack.insert(0, goal)\n",
    "        for op in self.ops.find_ops(goal, prev_state):  \n",
    "            # debug\n",
    "            if self.debug:\n",
    "                print(\"{}CONSIDER {}\".format((len(self.goal_stack)-1) * '  ', op['action']))\n",
    "            result = False\n",
    "            for goal_perm in itertools.permutations(op['preconds']):\n",
    "                state = prev_state\n",
    "                plan = prev_plan\n",
    "                for g in goal_perm:\n",
    "                    result, state, plan = self.achieve(state, g, plan)\n",
    "                    if result==False:\n",
    "                        break\n",
    "                if result:\n",
    "                    break\n",
    "            if result:\n",
    "                # debug\n",
    "                if self.debug:\n",
    "                    print(\"{}Action {}\".format((len(self.goal_stack)) * '  ', op['action']))\n",
    "                plan.append(op['action'])\n",
    "                self.goal_stack.pop(0)\n",
    "                return True, self.ops.apply(state, op), plan\n",
    "\n",
    "        self.goal_stack.pop(0)\n",
    "        return False, prev_state, prev_plan\n",
    "                \n",
    "    def solve(self, debug=False):\n",
    "        self.debug = debug\n",
    "        \n",
    "        # test of alle goals gerealiseerd kunnen worden\n",
    "        self.goal_stack = []\n",
    "        self.plan = []\n",
    "        result, new_state, self.plan = self.achieve_any_combination(self.state, self.goals)\n",
    "\n",
    "        if result:\n",
    "            if len(self.plan) == 0:\n",
    "                print(\"((START))\")\n",
    "            else:\n",
    "                print(\"((START)\")\n",
    "                for a in self.plan[:-1]:\n",
    "                    print(\" (EXECUTING {})\".format(a))\n",
    "                print(\" (EXECUTING {}))\".format(self.plan[-1]))\n",
    "            self.state = list(new_state)\n",
    "        else:\n",
    "            print(\"NOT SOLVED\")\n",
    "            "
   ]
  },
  {
   "cell_type": "code",
   "execution_count": 619,
   "metadata": {},
   "outputs": [
    {
     "name": "stdout",
     "output_type": "stream",
     "text": [
      "((START)\n",
      " (EXECUTING move c from a to table)\n",
      " (EXECUTING move a from table to b))\n"
     ]
    }
   ],
   "source": [
    "block3_ops = Operators()    \n",
    "make_block_ops(block3_ops, ['a', 'b', 'c'])\n",
    "gps = GPS4(block3_ops)\n",
    "gps.state = ['c-on-a', 'a-on-table', 'b-on-table', 'space-on-c', 'space-on-b', 'space-on-table']\n",
    "gps.goals = ['c-on-table', 'a-on-b']\n",
    "gps.solve(debug=False)"
   ]
  },
  {
   "cell_type": "markdown",
   "metadata": {},
   "source": [
    "Er blijven problemen die GPS toch nog niet kan oplossen. Zoals het ogenschijnlijke makkelijke probleem hieronder. Dit wordt de \"Sussman anomaly\" genoemd."
   ]
  },
  {
   "cell_type": "code",
   "execution_count": 625,
   "metadata": {},
   "outputs": [
    {
     "name": "stdout",
     "output_type": "stream",
     "text": [
      "GOAL: b-on-c\n",
      "CONSIDER move b from table to c\n",
      "  Action move b from table to c\n",
      "GOAL: a-on-b\n",
      "CONSIDER move a from c to b\n",
      "  CONSIDER move c from a to table\n",
      "    CONSIDER move b from c to table\n",
      "      Action move b from c to table\n",
      "    Action move c from a to table\n",
      "  CONSIDER move a from table to c\n",
      "    Action move a from table to c\n",
      "  Action move a from c to b\n",
      "GOAL: a-on-b\n",
      "CONSIDER move a from c to b\n",
      "  CONSIDER move c from a to table\n",
      "    Action move c from a to table\n",
      "  CONSIDER move a from table to c\n",
      "    Action move a from table to c\n",
      "  Action move a from c to b\n",
      "GOAL: b-on-c\n",
      "CONSIDER move b from table to c\n",
      "  CONSIDER move c from b to table\n",
      "    CONSIDER move c from table to b\n",
      "    CONSIDER move c from a to b\n",
      "      CONSIDER move c from b to a\n",
      "      CONSIDER move c from table to a\n",
      "        Action move c from table to a\n",
      "      CONSIDER move c from b to a\n",
      "      CONSIDER move c from table to a\n",
      "        Action move c from table to a\n",
      "      CONSIDER move c from b to a\n",
      "      CONSIDER move c from table to a\n",
      "        Action move c from table to a\n",
      "    CONSIDER move c from table to b\n",
      "    CONSIDER move c from a to b\n",
      "      CONSIDER move c from b to a\n",
      "      CONSIDER move c from table to a\n",
      "        Action move c from table to a\n",
      "      CONSIDER move c from b to a\n",
      "      CONSIDER move c from table to a\n",
      "        Action move c from table to a\n",
      "      CONSIDER move c from b to a\n",
      "      CONSIDER move c from table to a\n",
      "        Action move c from table to a\n",
      "    CONSIDER move c from table to b\n",
      "    CONSIDER move c from a to b\n",
      "      CONSIDER move c from b to a\n",
      "      CONSIDER move c from table to a\n",
      "        Action move c from table to a\n",
      "      CONSIDER move c from b to a\n",
      "      CONSIDER move c from table to a\n",
      "        Action move c from table to a\n",
      "      CONSIDER move c from b to a\n",
      "      CONSIDER move c from table to a\n",
      "        Action move c from table to a\n",
      "    CONSIDER move c from table to b\n",
      "    CONSIDER move c from a to b\n",
      "      CONSIDER move c from b to a\n",
      "      CONSIDER move c from table to a\n",
      "        Action move c from table to a\n",
      "      CONSIDER move c from b to a\n",
      "      CONSIDER move c from table to a\n",
      "        Action move c from table to a\n",
      "      CONSIDER move c from b to a\n",
      "      CONSIDER move c from table to a\n",
      "        Action move c from table to a\n",
      "    CONSIDER move c from table to b\n",
      "    CONSIDER move c from a to b\n",
      "      CONSIDER move c from b to a\n",
      "      CONSIDER move c from table to a\n",
      "        Action move c from table to a\n",
      "      CONSIDER move c from b to a\n",
      "      CONSIDER move c from table to a\n",
      "        Action move c from table to a\n",
      "      CONSIDER move c from b to a\n",
      "      CONSIDER move c from table to a\n",
      "        Action move c from table to a\n",
      "    CONSIDER move c from table to b\n",
      "    CONSIDER move c from a to b\n",
      "      CONSIDER move c from b to a\n",
      "      CONSIDER move c from table to a\n",
      "        Action move c from table to a\n",
      "      CONSIDER move c from b to a\n",
      "      CONSIDER move c from table to a\n",
      "        Action move c from table to a\n",
      "      CONSIDER move c from b to a\n",
      "      CONSIDER move c from table to a\n",
      "        Action move c from table to a\n",
      "  CONSIDER move c from b to a\n",
      "    CONSIDER move c from table to b\n",
      "    CONSIDER move c from a to b\n",
      "      CONSIDER move c from b to a\n",
      "      CONSIDER move c from table to a\n",
      "        Action move c from table to a\n",
      "      CONSIDER move c from b to a\n",
      "      CONSIDER move c from table to a\n",
      "        Action move c from table to a\n",
      "      CONSIDER move c from b to a\n",
      "      CONSIDER move c from table to a\n",
      "        Action move c from table to a\n",
      "    CONSIDER move c from table to b\n",
      "    CONSIDER move c from a to b\n",
      "      CONSIDER move c from b to a\n",
      "      CONSIDER move c from table to a\n",
      "        Action move c from table to a\n",
      "      CONSIDER move c from b to a\n",
      "      CONSIDER move c from table to a\n",
      "        Action move c from table to a\n",
      "      CONSIDER move c from b to a\n",
      "      CONSIDER move c from table to a\n",
      "        Action move c from table to a\n",
      "    CONSIDER move c from table to b\n",
      "    CONSIDER move c from a to b\n",
      "      CONSIDER move c from b to a\n",
      "      CONSIDER move c from table to a\n",
      "        Action move c from table to a\n",
      "      CONSIDER move c from b to a\n",
      "      CONSIDER move c from table to a\n",
      "        Action move c from table to a\n",
      "      CONSIDER move c from b to a\n",
      "      CONSIDER move c from table to a\n",
      "        Action move c from table to a\n",
      "    CONSIDER move c from table to b\n",
      "    CONSIDER move c from a to b\n",
      "      CONSIDER move c from b to a\n",
      "      CONSIDER move c from table to a\n",
      "        Action move c from table to a\n",
      "      CONSIDER move c from b to a\n",
      "      CONSIDER move c from table to a\n",
      "        Action move c from table to a\n",
      "      CONSIDER move c from b to a\n",
      "      CONSIDER move c from table to a\n",
      "        Action move c from table to a\n",
      "    CONSIDER move c from table to b\n",
      "    CONSIDER move c from a to b\n",
      "      CONSIDER move c from b to a\n",
      "      CONSIDER move c from table to a\n",
      "        Action move c from table to a\n",
      "      CONSIDER move c from b to a\n",
      "      CONSIDER move c from table to a\n",
      "        Action move c from table to a\n",
      "      CONSIDER move c from b to a\n",
      "      CONSIDER move c from table to a\n",
      "        Action move c from table to a\n",
      "    CONSIDER move c from table to b\n",
      "    CONSIDER move c from a to b\n",
      "      CONSIDER move c from b to a\n",
      "      CONSIDER move c from table to a\n",
      "        Action move c from table to a\n",
      "      CONSIDER move c from b to a\n",
      "      CONSIDER move c from table to a\n",
      "        Action move c from table to a\n",
      "      CONSIDER move c from b to a\n",
      "      CONSIDER move c from table to a\n",
      "        Action move c from table to a\n",
      "  CONSIDER move a from b to table\n",
      "    Action move a from b to table\n",
      "  Action move b from table to c\n",
      "NOT SOLVED\n"
     ]
    }
   ],
   "source": [
    "gps.state = ['c-on-a', 'a-on-table', 'b-on-table', 'space-on-c', 'space-on-b', 'space-on-table']\n",
    "gps.goals = ['b-on-c', 'a-on-b']\n",
    "gps.solve(debug=True)"
   ]
  },
  {
   "cell_type": "code",
   "execution_count": null,
   "metadata": {
    "collapsed": true
   },
   "outputs": [],
   "source": [
    "sorted()"
   ]
  }
 ],
 "metadata": {
  "kernelspec": {
   "display_name": "Python 3",
   "language": "python",
   "name": "python3"
  },
  "language_info": {
   "codemirror_mode": {
    "name": "ipython",
    "version": 3
   },
   "file_extension": ".py",
   "mimetype": "text/x-python",
   "name": "python",
   "nbconvert_exporter": "python",
   "pygments_lexer": "ipython3",
   "version": "3.6.3"
  }
 },
 "nbformat": 4,
 "nbformat_minor": 2
}
